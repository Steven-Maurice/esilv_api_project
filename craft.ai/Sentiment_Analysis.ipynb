
{
 "cells": [
  {
   "cell_type": "markdown",
   "metadata": {},
   "source": [
    "# Sentiment analysis of AI Website"
   ]
  },
  {
   "cell_type": "code",
   "execution_count": 1,
   "metadata": {},
   "outputs": [
    {
     "name": "stdout",
     "output_type": "stream",
     "text": [
      "Analyse de sentiment TextBlob :\n",
      "Polarité globale : -0.8125\n",
      "Analyse de sentiment VADER :\n",
      "Score composé global : -0.8007\n"
     ]
    }
   ],
   "source": [
    "from textblob import TextBlob\n",
    "from vaderSentiment.vaderSentiment import SentimentIntensityAnalyzer\n",
    "\n",
    "def analyser_sentiment_textblob(texte):\n",
    "    try:\n",
    "        analyse = TextBlob(texte)\n",
    "        return analyse.sentiment.polarity\n",
    "    except Exception as e:\n",
    "        print(f\"Erreur avec TextBlob: {e}\")\n",
    "        return None\n",
    "\n",
    "def analyser_sentiment_vader(texte):\n",
    "    try:\n",
    "        analyseur = SentimentIntensityAnalyzer()\n",
    "        scores = analyseur.polarity_scores(texte)\n",
    "        return scores['compound']\n",
    "    except Exception as e:\n",
    "        print(f\"Erreur avec VaderSentiment: {e}\")\n",
    "        return None\n",
    "\n",
    "phrase = \"I feeling extremely terrible today, I am so sad!\"\n",
    "\n",
    "polarite_textblob = analyser_sentiment_textblob(phrase)\n",
    "score_vader = analyser_sentiment_vader(phrase)\n",
    "\n",
    "print(f\"Analyse de sentiment TextBlob :\\nPolarité globale : {polarite_textblob}\")\n",
    "print(f\"Analyse de sentiment VADER :\\nScore composé global : {score_vader}\")\n"
   ]
  }
 ],
 "metadata": {
  "kernelspec": {
   "display_name": "base",
   "language": "python",
   "name": "python3"
  },
  "language_info": {
   "codemirror_mode": {
    "name": "ipython",
    "version": 3
   },
   "file_extension": ".py",
   "mimetype": "text/x-python",
   "name": "python",
   "nbconvert_exporter": "python",
   "pygments_lexer": "ipython3",
   "version": "3.11.5"
  }
 },
 "nbformat": 4,
 "nbformat_minor": 2 
}
