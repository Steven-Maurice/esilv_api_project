{
 "cells": [
  {
   "cell_type": "code",
   "execution_count": 2,
   "id": "initial_id",
   "metadata": {
    "collapsed": true,
    "ExecuteTime": {
     "end_time": "2024-04-07T15:23:25.963958Z",
     "start_time": "2024-04-07T15:23:15.612677Z"
    }
   },
   "outputs": [
    {
     "name": "stderr",
     "output_type": "stream",
     "text": [
      "[nltk_data] Downloading package vader_lexicon to\n",
      "[nltk_data]     C:\\Users\\Irish\\AppData\\Roaming\\nltk_data...\n",
      "[nltk_data]   Package vader_lexicon is already up-to-date!\n"
     ]
    }
   ],
   "source": [
    "import requests\n",
    "from flask import Flask, jsonify, request, abort\n",
    "import feedparser\n",
    "import nltk\n",
    "nltk.download('vader_lexicon')\n",
    "from nltk.sentiment import SentimentIntensityAnalyzer\n",
    "import yake"
   ]
  },
  {
   "cell_type": "code",
   "outputs": [
    {
     "name": "stdout",
     "output_type": "stream",
     "text": [
      " * Serving Flask app '__main__'\n",
      " * Debug mode: off\n"
     ]
    },
    {
     "name": "stderr",
     "output_type": "stream",
     "text": [
      "WARNING: This is a development server. Do not use it in a production deployment. Use a production WSGI server instead.\n",
      " * Running on http://127.0.0.1:5000\n",
      "Press CTRL+C to quit\n",
      "127.0.0.1 - - [07/Apr/2024 17:33:56] \"GET /get_data HTTP/1.1\" 200 -\n"
     ]
    },
    {
     "name": "stdout",
     "output_type": "stream",
     "text": [
      "http://export.arxiv.org/api/query?search_query=cat:cs.AI&start=0&max_results=5&sortBy=lastUpdatedDate&sortOrder=descending\n",
      "http://export.arxiv.org/api/query?search_query=cat:cs.AI&start=0&max_results=100&sortBy=lastUpdatedDate&sortOrder=descending\n"
     ]
    },
    {
     "name": "stderr",
     "output_type": "stream",
     "text": [
      "127.0.0.1 - - [07/Apr/2024 17:45:40] \"GET /ml HTTP/1.1\" 200 -\n"
     ]
    }
   ],
   "source": [
    "\n",
    "def fetch_arxiv_articles(query, max_results=5,id=False):\n",
    "    # Construct the query URL with parameters directly in the string\n",
    "    if id:\n",
    "        query_url = f\"http://export.arxiv.org/api/query?{query}\"\n",
    "    else:\n",
    "        query_url = f\"http://export.arxiv.org/api/query?search_query={query}&start=0&max_results={max_results}&sortBy=lastUpdatedDate&sortOrder=descending\"\n",
    "    response = requests.get(query_url)\n",
    "    print(query_url)  # Print the response text for debugging\n",
    "    if response.status_code == 200:\n",
    "        return response.text\n",
    "    else:\n",
    "        return None\n",
    "\n",
    "app = Flask(__name__)\n",
    "\n",
    "@app.route('/')\n",
    "def home():\n",
    "    return \"\"\"\n",
    "    Welcome to the API! This is the homepage. Here are the different endpoints: <br>\n",
    "    /get_data: Fetches a list of articles from the site. Retrieving 5 articles might be sufficient.<br>\n",
    "    /articles: Displays information about the articles, including the article number, title, publication date, etc., but not the content itself.<br>\n",
    "    /article/<\"number\">: Accesses the content of a specified article.<br>\n",
    "    /ml or /ml/<\"number\">: Executes a machine learning script. Depending on the desired goal, it applies to either all articles or a single one. For example, sentiment analysis.\n",
    "    \"\"\"\n",
    "\n",
    "\n",
    "# Fetches a list of articles from the site. Retrieving 5 articles might be sufficient.\n",
    "@app.route('/get_data', methods=['GET'])\n",
    "def get_data():\n",
    "    articles_xml = fetch_arxiv_articles('cat:cs.AI', max_results=5)\n",
    "    if articles_xml:\n",
    "        feed = feedparser.parse(articles_xml)\n",
    "        articles = []\n",
    "        for entry in feed.entries:\n",
    "            article = {\n",
    "                'title': entry.title,\n",
    "                'authors': [author.name for author in entry.authors],\n",
    "                'link': entry.link,\n",
    "                'published': entry.published,\n",
    "                'number': entry.id[21:],\n",
    "                'summary': entry.summary\n",
    "            }\n",
    "            articles.append(article)\n",
    "        return jsonify(articles)\n",
    "    else:\n",
    "        abort(404, description=\"Resource not found\")\n",
    "\n",
    "\n",
    "# Displays information about the articles, including the article number, title, publication date, etc., but not the content itself.\n",
    "@app.route('/articles', methods=['GET'])\n",
    "def get_articles():\n",
    "    articles_xml = fetch_arxiv_articles('cat:cs.AI', max_results=5)\n",
    "    if articles_xml:\n",
    "        feed = feedparser.parse(articles_xml)\n",
    "        articles = []\n",
    "        for entry in feed.entries:\n",
    "            article = {\n",
    "                'title': entry.title,\n",
    "                'authors': [author.name for author in entry.authors],\n",
    "                'link': entry.link,\n",
    "                'published': entry.published,\n",
    "                'number': entry.id[21:]\n",
    "            }\n",
    "            articles.append(article)\n",
    "        return jsonify(articles)\n",
    "    else:\n",
    "        abort(404, description=\"Resource not found\")\n",
    "\n",
    "\n",
    "# Accesses the content of a specified article.\n",
    "@app.route('/article/<string:article_number>', methods=['GET'])\n",
    "def get_article(article_number):\n",
    "    article_xml = fetch_arxiv_articles(f'id_list={article_number}', max_results=1, id=True)\n",
    "    if article_xml:\n",
    "        entry = feedparser.parse(article_xml).entries[0]\n",
    "        article = {\n",
    "            'title': entry.title,\n",
    "            'summary': entry.summary,\n",
    "            'authors': [author.name for author in entry.authors],\n",
    "            'link': entry.link,\n",
    "            'published': entry.published,\n",
    "            'number': entry.id[21:]\n",
    "        }\n",
    "        return jsonify(article)\n",
    "    else:\n",
    "        abort(404, description=\"Article not found\")\n",
    "\n",
    "\n",
    "def analyze_sentiment(text):\n",
    "    scores = sia.polarity_scores(text)\n",
    "    compound_score = scores['compound']\n",
    "    if compound_score >= 0.05:\n",
    "        return \"Positive\"\n",
    "    elif compound_score <= -0.05:\n",
    "        return \"Negative\"\n",
    "    else:\n",
    "        return \"Neutral\"\n",
    "\n",
    "# Initialize the VADER sentiment intensity analyzer\n",
    "sia = SentimentIntensityAnalyzer()\n",
    "\n",
    "# Initialize YAKE keyword extractor\n",
    "language = \"en\"\n",
    "max_ngram_size = 3\n",
    "deduplication_threshold = 0.9\n",
    "num_of_keywords = 5\n",
    "kw_extractor = yake.KeywordExtractor(lan=language, n=max_ngram_size, dedupLim=deduplication_threshold, top=num_of_keywords, features=None)\n",
    "\n",
    "def extract_keywords(text):\n",
    "    keywords = kw_extractor.extract_keywords(text)\n",
    "    keyword_phrases = [kw[0] for kw in keywords]\n",
    "    return keyword_phrases\n",
    "\n",
    "@app.route('/ml', methods=['GET'])\n",
    "@app.route('/ml/<string:article_number>', methods=['GET'])\n",
    "def machine_learning(article_number=None):\n",
    "    if article_number:\n",
    "        article_xml = fetch_arxiv_articles(f'id_list={article_number}', max_results=1, id=True)\n",
    "        if article_xml:\n",
    "            entry = feedparser.parse(article_xml).entries[0]\n",
    "            article_content = entry.summary\n",
    "            sentiment = analyze_sentiment(article_content)\n",
    "            keywords = extract_keywords(article_content)\n",
    "            return jsonify({\n",
    "                'article_number': article_number,\n",
    "                'sentiment': sentiment,\n",
    "                'keywords': keywords\n",
    "            })\n",
    "        else:\n",
    "            abort(404, description=\"Article not found\")\n",
    "    else:\n",
    "        articles_xml = fetch_arxiv_articles('cat:cs.AI', max_results=100)\n",
    "        if articles_xml:\n",
    "            feed = feedparser.parse(articles_xml)\n",
    "            analyses = []\n",
    "            for entry in feed.entries:\n",
    "                article_content = entry.summary\n",
    "                sentiment = analyze_sentiment(article_content)\n",
    "                keywords = extract_keywords(article_content)\n",
    "                analyses.append({\n",
    "                    'title': entry.title,\n",
    "                    'sentiment': sentiment,\n",
    "                    'keywords': keywords,\n",
    "                    'number': entry.id[21:]\n",
    "                })\n",
    "            return jsonify({'analyses': analyses})\n",
    "        else:\n",
    "            abort(404, description=\"Resource not found\")\n",
    "\n",
    "\n",
    "\n",
    "\n",
    "if __name__ == '__main__':\n",
    "    app.run(debug=False)"
   ],
   "metadata": {
    "collapsed": false,
    "is_executing": true,
    "ExecuteTime": {
     "start_time": "2024-04-07T15:33:47.470132Z"
    }
   },
   "id": "bfaa6ea079d9b60",
   "execution_count": null
  }
 ],
 "metadata": {
  "kernelspec": {
   "display_name": "Python 3",
   "language": "python",
   "name": "python3"
  },
  "language_info": {
   "codemirror_mode": {
    "name": "ipython",
    "version": 2
   },
   "file_extension": ".py",
   "mimetype": "text/x-python",
   "name": "python",
   "nbconvert_exporter": "python",
   "pygments_lexer": "ipython2",
   "version": "2.7.6"
  }
 },
 "nbformat": 4,
 "nbformat_minor": 5
}
