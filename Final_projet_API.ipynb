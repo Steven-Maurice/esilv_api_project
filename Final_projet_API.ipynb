{
 "cells": [
  {
   "cell_type": "code",
   "execution_count": 1,
   "metadata": {},
   "outputs": [],
   "source": [
    "#pip install flask"
   ]
  },
  {
   "cell_type": "code",
   "execution_count": 2,
   "metadata": {},
   "outputs": [],
   "source": [
    "#pip install yake"
   ]
  },
  {
   "cell_type": "code",
   "execution_count": 3,
   "metadata": {},
   "outputs": [],
   "source": [
    "from flask import Flask, jsonify,abort\n",
    "import requests\n",
    "from bs4 import BeautifulSoup\n",
    "import yake"
   ]
  },
  {
   "cell_type": "code",
   "execution_count": 4,
   "metadata": {},
   "outputs": [],
   "source": [
    "app = Flask(__name__)"
   ]
  },
  {
   "cell_type": "code",
   "execution_count": 5,
   "metadata": {},
   "outputs": [
    {
     "name": "stdout",
     "output_type": "stream",
     "text": [
      "{'date': '17 Jun 24\\n17 June 2024', 'title': 'Neural Fields as Distributions: Signal Processing Beyond Euclidean Space', 'authors': 'Daniel Rebain, Soroosh Yazdani, Kwang Moo Yi, Andrea Tagliasacchi', 'venue': 'CVPR 2024'}\n",
      "{'date': '17 Jun 24\\n17 June 2024', 'title': 'Mirasol3B: A Multimodal Autoregressive Model for Time-Aligned and Contextual Modalities', 'authors': 'AJ Piergiovanni, Isaac Noble, Dahun Kim, Michael S. Ryoo, Victor Gomes, Anelia Angelova', 'venue': 'CVPR 2024'}\n",
      "{'date': '17 Jun 24\\n17 June 2024', 'title': \"Bayes' Rays: uncertainty quantification for neural radiance fields\", 'authors': 'Lily Goli, Cody Reading, Silvia Sellan, Alec Jacobson, Andrea Tagliasacchi', 'venue': 'CVPR 2024'}\n",
      "{'date': '7 May 24\\n7 May 2024', 'title': 'π2vec: Policy Representations with SuccessorFeatures', 'authors': 'Gianluca Scarpellini*, Ksenia Konyushkova, Claudio Fantacci, Tom Paine, Yutian Chen, Misha Denil', 'venue': 'ICLR 2024'}\n",
      "{'date': '7 May 24\\n7 May 2024', 'title': 'Kalman Filter for Online Classification of Non-Stationary Data', 'authors': 'Alexandre Galashov, Michalis Titsias, Jörg Bornschein, Amal Rannen-Triki, Razvan Pascanu, Yee Whye Teh', 'venue': 'ICLR 2024'}\n",
      "{'date': '7 May 24\\n7 May 2024', 'title': 'Privacy Amplification by Sampling for the Matrix Mechanism.', 'authors': 'Christopher A. Choquette-Choo, Arun Ganesh, Thomas Steinke, Abhradeep Thakurta', 'venue': 'ICLR 2024'}\n",
      "{'date': '7 May 24\\n7 May 2024', 'title': 'Deep SE(3)-Equivariant Geometric Reasoning for Precise Placement Tasks', 'authors': 'Ben Eisner*, Jon Scholz, Todor Davchev, Yi Yang, Mel Vecerik', 'venue': 'ICLR 2024'}\n",
      "{'date': '7 May 24\\n7 May 2024', 'title': 'CORRELATED NOISE PROVABLY BEATS INDEPENDENT NOISE FOR DIFFERENTIALLY PRIVATE LEARNING', 'authors': 'Christopher A. Choquette-Choo, Krishnamurthy Dvijotham, Krishna Pillutla, Arun Ganesh, Thomas Steinke, Abhradeep Thakurta', 'venue': 'ICLR 2024'}\n",
      "{'date': '7 May 24\\n7 May 2024', 'title': 'Language Modeling Is Compression', 'authors': 'Grégoire Delétang, Anian Ruoss, Paul-Ambroise Duquenne*, Elliot Catt, Tim Genewein, cmattern , Matthew Aitchison, Laurent Orseau, Marcus Hutter, Joel Veness', 'venue': 'ICLR 2024'}\n",
      "{'date': '7 May 24\\n7 May 2024', 'title': 'Learning 3D Particle-based Simulators from RGB-D Videos', 'authors': 'Will Whitney, Tatiana López, Tobias Pfaff, Yulia Rubanova, Thomas Kipf, Kimberly Stachenfeld, Kelsey Allen', 'venue': 'ICLR 2024'}\n",
      "{'date': '7 May 24\\n7 May 2024', 'title': 'Teach LLMs to Phish: Stealing Private Information from Language Models', 'authors': 'Ashwinee Panda, Christopher A. Choquette-Choo, Zhengming Zhang, Yaoqing Yang, Prateek Mittal', 'venue': 'ICLR 2024'}\n",
      "{'date': '29 Mar 24\\n29 March 2024', 'title': 'Gecko: Versatile Text Embeddings Distilled from Large Language Models', 'authors': 'Jinhyuk Lee, Zhuyun Dai, Xiaoqi Ren, Blair Chen, Daniel Cer, Jeremy Cole, Kai Hui, Michael Boratko, Rajvi Kapadia, Wen Ding, Yi Luan, Karthik Duddu, Gustavo Hernandez Abrego, Weiqiang Shi, Nithi Gupta, Aditya Kusupati, Prateek Jain, Siddhartha Reddy Jonnalagadda, Ming-Wei Chang, Iftekhar Naim', 'venue': 'arXiv'}\n",
      "{'date': '27 Mar 24\\n27 March 2024', 'title': 'Long-form factuality in large language models', 'authors': 'Jerry Wei, Chengrun Yang, Xinying Song, Yifeng Lu, Nathan Hu, Jie Huang, Dustin Tran, Daiyi Peng, Ruibo Liu, Da Huang, Cosmo Du, Quoc V. Le', 'venue': 'arXiv'}\n",
      "{'date': '19 Mar 24\\n19 March 2024', 'title': 'DiPaCo: Distributed Path Composition', 'authors': 'Arthur Douillard, Qixuan Feng, Andrei A. Rusu, Adhiguna Kuncoro , Yani Donchev , Rachita Chhaparia , Ionel Gog , Marc’Aurelio Ranzato, Jiajun Shen, Arthur Szlam', 'venue': 'arXiv'}\n",
      "{'date': '11 Mar 24\\n11 March 2024', 'title': 'Demonstration-Regularized RL', 'authors': 'Daniil Tiapkin*, Denis Belomestny*, Daniele Calandriello, Éric Moulines*, Alexey Naumov*, Pierre Perrault*, Michal Valko, Pierre Ménard*', 'venue': 'ICLR 2024'}\n",
      "{'date': '11 Mar 24\\n11 March 2024', 'title': \"Prosody for Intuitive Robotic Interface Design: It's Not What You Said, It's How You Said It\", 'authors': 'Ellie Sanoubari, Atil Iscen, Leila Takayama, Stefano Saliceti, Corbin Cunningham, Ken Caluwaerts', 'venue': 'HRI 2024 Workshop'}\n",
      "{'date': '11 Mar 24\\n11 March 2024', 'title': 'Model-free Posterior Sampling via Learning Rate Randomization', 'authors': 'Daniil Tiapkin*, Denis Belomestny*, Daniele Calandriello, Éric Moulines*, Rémi Munos, Alexey Naumov*, Pierre Perrault*, Michal Valko, Pierre Ménard*', 'venue': 'NeurIPS 2023'}\n",
      "{'date': '11 Mar 24\\n11 March 2024', 'title': 'Robust Exploration via Clustering-based Density Estimation', 'authors': 'Alaa Saade, Steven Kapturowski, Daniele Calandriello, Charles Blundell, Pablo Sprechmann, Leopoldo Sarra*, Oliver Groth, Bilal Piot, Michal Valko', 'venue': 'ICLR 2024'}\n",
      "{'date': '11 Mar 24\\n11 March 2024', 'title': 'Understanding Learning from Human Preferences', 'authors': 'Mohammad Gheshlaghi Azar, Mark Rowland, Bilal Piot, Zhaohan Daniel Guo, Daniele Calandriello, Michal Valko, Rémi Munos', 'venue': '(deprecated) AISTATS2024'}\n",
      "{'date': '4 Mar 24\\n4 March 2024', 'title': 'AtP*: Efficient and scalable methods for localizing LLM behaviour to components', 'authors': 'János Kramár, Tom Lieberum, Neel Nanda, Rohin Shah', 'venue': 'arXiv'}\n"
     ]
    }
   ],
   "source": [
    "#Funtion used to scrape publication data from Google Deepmind\n",
    "def scrape_deepmind_publications():\n",
    "    url = 'https://deepmind.com/research/publications/'\n",
    "    response = requests.get(url)\n",
    "    \n",
    "    if response.status_code == 200:\n",
    "        soup = BeautifulSoup(response.text, 'html.parser')\n",
    "        \n",
    "        # Find the unordered list with publications\n",
    "        publication_list = soup.find('ul', {'class': 'list-compact'})\n",
    "        \n",
    "        # Each publication is in a list item within the unordered list\n",
    "        publications = publication_list.find_all('li', recursive=False)\n",
    "        \n",
    "        publication_data = []\n",
    "        \n",
    "        for publication in publications:\n",
    "            # Extract date, title, authors, and venue\n",
    "            date = publication.find('time').text.strip()\n",
    "            title = publication.find('span', {'class': 'list-compact__inner'}).text.strip()\n",
    "            authors = publication.find('dd', {'class': 'glue-caption'}).text.strip()\n",
    "            venue = publication.find_all('dd', {'class': 'glue-caption'})[1].text.strip()\n",
    "            \n",
    "            publication_data.append({\n",
    "                'date': date,\n",
    "                'title': title,\n",
    "                'authors': authors,\n",
    "                'venue': venue\n",
    "            })\n",
    "        \n",
    "        return publication_data\n",
    "    \n",
    "    else:\n",
    "        print('Failed to retrieve the webpage')\n",
    "        return []\n",
    "\n",
    "# Call the function and print results\n",
    "publications = scrape_deepmind_publications()\n",
    "for pub in publications:\n",
    "    print(pub)\n"
   ]
  },
  {
   "cell_type": "code",
   "execution_count": 6,
   "metadata": {},
   "outputs": [],
   "source": [
    "# homepage endpoint\n",
    "@app.route('/')\n",
    "def home():\n",
    "    return \"Welcome to the DeepMind News API!\"\n"
   ]
  },
  {
   "cell_type": "code",
   "execution_count": 7,
   "metadata": {},
   "outputs": [],
   "source": [
    "# Endpoint to fetch a list of articles\n",
    "@app.route('/get_data', methods=['GET'])\n",
    "def get_data():\n",
    "    articles = scrape_deepmind_publications()\n",
    "    # Extract just the titles from the first 5 articles\n",
    "    titles = [article['title'] for article in articles[:5]]\n",
    "    return jsonify(titles)"
   ]
  },
  {
   "cell_type": "code",
   "execution_count": 8,
   "metadata": {},
   "outputs": [],
   "source": [
    "# Endpoint to display information about articles\n",
    "@app.route('/articles', methods=['GET'])\n",
    "def get_articles():\n",
    "    articles = scrape_deepmind_publications()\n",
    "    # Transform articles for display, excluding content\n",
    "    display_articles = [{'number': i+1, 'title': article['title'], 'date': article['date'], 'authors': article['authors'], 'venue': article['venue']} for i, article in enumerate(articles)]\n",
    "    return jsonify(display_articles)"
   ]
  },
  {
   "cell_type": "code",
   "execution_count": 9,
   "metadata": {},
   "outputs": [],
   "source": [
    "# Endpoint to access the content of a specified article\n",
    "@app.route('/article/<int:number>', methods=['GET'])\n",
    "def get_article(number):\n",
    "    articles = scrape_deepmind_publications()\n",
    "    # Transform articles for display, excluding content\n",
    "    display_articles = [{'number': i+1, 'title': article['title'], 'date': article['date'], 'authors': article['authors'], 'venue': article['venue']} for i, article in enumerate(articles)]\n",
    "    article = next((item for item in display_articles if item['number'] == number), None)\n",
    "    if article is not None:\n",
    "        return jsonify(article)\n",
    "    else:\n",
    "        abort(404, description=\"Resource not found\")\n"
   ]
  },
  {
   "cell_type": "code",
   "execution_count": 10,
   "metadata": {},
   "outputs": [],
   "source": [
    "#Keyword extraction ML to identify key topics from article titles\n",
    "def keyword_extraction(text, num_keywords=5):\n",
    "    \"\"\"\n",
    "    Extract keywords from the given text using YAKE keyword extraction.\n",
    "    \n",
    "    Parameters:\n",
    "    text (str): The input text to analyze.\n",
    "    num_keywords (int): The number of top keywords to extract.\n",
    "    \n",
    "    Returns:\n",
    "    list: A list of keywords.\n",
    "    \"\"\"\n",
    "    kw_extractor = yake.KeywordExtractor()\n",
    "    keywords = kw_extractor.extract_keywords(text)\n",
    "    sorted_keywords = sorted(keywords, key=lambda x: x[1])[:num_keywords]  # Sort by score and pick the top keywords\n",
    "    return [kw[0] for kw in sorted_keywords]  # Return only the keywords, not the scores\n"
   ]
  },
  {
   "cell_type": "code",
   "execution_count": 11,
   "metadata": {},
   "outputs": [],
   "source": [
    "# Endpoint for machine learning analysis on all articles or a single one\n",
    "@app.route('/ml', defaults={'number': None})\n",
    "@app.route('/ml/<int:number>', methods=['GET'])\n",
    "def ml_analysis(number):\n",
    "    articles = scrape_deepmind_publications()\n",
    "    display_articles = [{'number': i+1, 'title': article['title'], 'date': article['date'], 'authors': article['authors'], 'venue': article['venue']} for i, article in enumerate(articles)]\n",
    "    if number is None:\n",
    "        # Apply ML function (keyword extraction) to all articles\n",
    "        results = {article['number']: keyword_extraction(article['title']) for article in display_articles}\n",
    "    else:\n",
    "        # Apply ML function to the specific article\n",
    "        article = next((item for item in display_articles if item['number'] == number), None)\n",
    "        if article is not None:\n",
    "            results = {number: keyword_extraction(article['title'])}\n",
    "        else:\n",
    "            abort(404, description=\"Resource not found\")\n",
    "    return jsonify(results)"
   ]
  },
  {
   "cell_type": "code",
   "execution_count": 12,
   "metadata": {},
   "outputs": [],
   "source": [
    "#from threading import Thread\n",
    "\n",
    "#def run_app():\n",
    "    #app.run(port=5000)\n",
    "\n",
    "##flask_thread = Thread(target=run_app)\n",
    "#flask_thread.start()\n"
   ]
  },
  {
   "cell_type": "code",
   "execution_count": 13,
   "metadata": {},
   "outputs": [
    {
     "name": "stdout",
     "output_type": "stream",
     "text": [
      " * Serving Flask app \"__main__\" (lazy loading)\n",
      " * Environment: production\n",
      "\u001b[31m   WARNING: This is a development server. Do not use it in a production deployment.\u001b[0m\n",
      "\u001b[2m   Use a production WSGI server instead.\u001b[0m\n",
      " * Debug mode: off\n"
     ]
    },
    {
     "name": "stderr",
     "output_type": "stream",
     "text": [
      " * Running on http://127.0.0.1:5001/ (Press CTRL+C to quit)\n",
      "127.0.0.1 - - [05/Apr/2024 18:08:43] \"\u001b[37mGET / HTTP/1.1\u001b[0m\" 200 -\n",
      "127.0.0.1 - - [05/Apr/2024 18:08:56] \"\u001b[37mGET /get_data HTTP/1.1\u001b[0m\" 200 -\n",
      "127.0.0.1 - - [05/Apr/2024 18:09:37] \"\u001b[37mGET /articles HTTP/1.1\u001b[0m\" 200 -\n",
      "127.0.0.1 - - [05/Apr/2024 18:09:48] \"\u001b[37mGET /article/1 HTTP/1.1\u001b[0m\" 200 -\n",
      "127.0.0.1 - - [05/Apr/2024 18:10:00] \"\u001b[37mGET /ml HTTP/1.1\u001b[0m\" 200 -\n",
      "127.0.0.1 - - [05/Apr/2024 18:10:11] \"\u001b[37mGET /ml/2 HTTP/1.1\u001b[0m\" 200 -\n"
     ]
    }
   ],
   "source": [
    "if __name__ == '__main__':\n",
    "    app.run(debug=False,port=5001)"
   ]
  }
 ],
 "metadata": {
  "kernelspec": {
   "display_name": "quantique",
   "language": "python",
   "name": "python3"
  },
  "language_info": {
   "codemirror_mode": {
    "name": "ipython",
    "version": 3
   },
   "file_extension": ".py",
   "mimetype": "text/x-python",
   "name": "python",
   "nbconvert_exporter": "python",
   "pygments_lexer": "ipython3",
   "version": "3.8.3"
  }
 },
 "nbformat": 4,
 "nbformat_minor": 2
}
